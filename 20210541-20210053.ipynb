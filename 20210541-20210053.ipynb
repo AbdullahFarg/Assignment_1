{
  "nbformat": 4,
  "nbformat_minor": 0,
  "metadata": {
    "colab": {
      "provenance": [],
      "include_colab_link": true
    },
    "kernelspec": {
      "name": "python3",
      "display_name": "Python 3"
    },
    "language_info": {
      "name": "python"
    }
  },
  "cells": [
    {
      "cell_type": "markdown",
      "metadata": {
        "id": "view-in-github",
        "colab_type": "text"
      },
      "source": [
        "<a href=\"https://colab.research.google.com/github/AbdullahFarg/Assignment_1/blob/main/Assignment1.ipynb\" target=\"_parent\"><img src=\"https://colab.research.google.com/assets/colab-badge.svg\" alt=\"Open In Colab\"/></a>"
      ]
    },
    {
      "cell_type": "code",
      "execution_count": null,
      "metadata": {
        "id": "iyAfJI-F0Im3"
      },
      "outputs": [],
      "source": [
        "# \"~(for_all(x)[for_all(y)[for_all(z)[imply(imply(P(y),Q(z)),imply(P(x),Q(x)))]]])\"\n",
        "\n",
        "\n",
        "# dic = {\n",
        "#     \"not\":\n",
        "#      {\n",
        "#          \"for_all(x)\":\n",
        "#           {\n",
        "#               \"for_all(y)\":\n",
        "#                {\n",
        "#                    \"for_all(z)\":\n",
        "#                    {\n",
        "#                        \"imply\":\n",
        "#                         (\n",
        "#                             {\"imply\": (P(y),Q(z))},\n",
        "#                             {\"imply\": (P(x),Q(x))}\n",
        "#                         )\n",
        "#                    }\n",
        "#                }\n",
        "#           }\n",
        "#       }\n",
        "#   }"
      ]
    },
    {
      "cell_type": "code",
      "source": [
        "def __split (statement) :\n",
        "    statement.replace( \" \" , \"\")\n",
        "    comp = []\n",
        "    quantifier, body = statement.split(\"(\", 1)\n",
        "    body = body[ : -1]\n",
        "    body += ','\n",
        "    cur = \"\"\n",
        "    c = 0\n",
        "    for ch in body :\n",
        "      if(ch == '(') :\n",
        "        c+=1\n",
        "      elif(ch == ')') :\n",
        "        c-=1\n",
        "      if(ch == ',' and c == 0) :\n",
        "        comp.append(cur)\n",
        "        cur = \"\"\n",
        "      if(c== 0 and ch in [\" \" , \",\"]) :\n",
        "        continue\n",
        "      cur+= ch\n",
        "    return comp\n",
        "\n",
        "expression = \"im(im(P(y) , Q(z)) , im(P(x) , Q(x)))\"\n",
        "\n",
        "print(__split(expression))\n"
      ],
      "metadata": {
        "colab": {
          "base_uri": "https://localhost:8080/"
        },
        "id": "wVu08fARiYhW",
        "outputId": "8ec9d847-0ec9-4c62-f578-b2ec0e9e89de"
      },
      "execution_count": null,
      "outputs": [
        {
          "output_type": "stream",
          "name": "stdout",
          "text": [
            "['im(P(y) , Q(z))', 'im(P(x) , Q(x))']\n"
          ]
        }
      ]
    },
    {
      "cell_type": "code",
      "source": [
        "def parse_statement(statement):\n",
        "    # Base case: If the statement starts with \"~\", it's a negation\n",
        "    if statement.startswith(\"not\"):\n",
        "        quantifier, body = statement.split(\"(\", 1)\n",
        "        body = body[:-1]\n",
        "        return {\"not\": parse_statement(body)}\n",
        "\n",
        "    # Base case: If the statement starts with a universal quantification (for_all)\n",
        "    if statement.startswith(\"for_all\"):\n",
        "        quantifier, body = statement.split(\"[\", 1)\n",
        "        body = body[:-1]\n",
        "        return {quantifier: parse_statement(body)}\n",
        "\n",
        "    # Base case: If the statement starts with an existential quantification (there_exist)\n",
        "    if statement.startswith(\"there_exist\"):\n",
        "        quantifier, body = statement.split(\"[\", 1)\n",
        "        body = body[:-1]\n",
        "        return {quantifier: parse_statement(body)}\n",
        "\n",
        "    # Base case: If the statement starts with a conjunction (and)\n",
        "    if statement.startswith(\"and\"):\n",
        "        comps = __split(statement)\n",
        "        comps_parsed = []\n",
        "        for el in comps:\n",
        "            comps_parsed.append(parse_statement(el))\n",
        "\n",
        "        return {\"and\": comps_parsed}\n",
        "\n",
        "    # Base case: If the statement starts with a disjunction (or)\n",
        "    if statement.startswith(\"or\"):\n",
        "        comps = __split(statement)\n",
        "        comps_parsed = []\n",
        "        for el in comps:\n",
        "            comps_parsed.append(parse_statement(el))\n",
        "\n",
        "        return {\"or\": comps_parsed}\n",
        "\n",
        "    # Base case: If the statement starts with a implecation (imply)\n",
        "    if statement.startswith(\"imply\"):\n",
        "        comps = __split(statement)\n",
        "        comps_parsed = []\n",
        "        for el in comps:\n",
        "            comps_parsed.append(parse_statement(el))\n",
        "\n",
        "        return {\"imply\": comps_parsed}\n",
        "\n",
        "    return statement\n",
        "\n",
        "# Example usage:\n",
        "statement1 = \"not(for_all(x)[for_all(y)[there_exist(z)[imply(imply(P(y) ,Q(z)) ,imply(P(x) ,Q(x)))]]])\"\n",
        "statement1 = \"for_all(x)[z]\"\n",
        "\n",
        "# statement = \"~(for_all(x)[for_all(y)[there_exist(z)[and(imply(B, and(C, D)), and(E, X), or(A, B))]]])\"\n",
        "parsed_statement = parse_statement(statement1)\n",
        "print(parsed_statement)\n"
      ],
      "metadata": {
        "colab": {
          "base_uri": "https://localhost:8080/"
        },
        "id": "ODUfTrM9-XYT",
        "outputId": "914b9c92-3b4e-402c-a78b-1099f554cdaa"
      },
      "execution_count": null,
      "outputs": [
        {
          "output_type": "stream",
          "name": "stdout",
          "text": [
            "{'for_all(x)': 'z'}\n"
          ]
        }
      ]
    },
    {
      "cell_type": "code",
      "source": [
        "def Eliminate_implication(my_dict):\n",
        "    # print(f\"my_dict: {my_dict}\")\n",
        "    if not isinstance(my_dict, dict):\n",
        "        return my_dict\n",
        "\n",
        "    keys_iterator = iter(my_dict)\n",
        "    first_key = next(keys_iterator)\n",
        "    first_value = my_dict[first_key]\n",
        "\n",
        "    # print(f\"first_key: {first_key}\")\n",
        "    # print(f\"first_value: {type(first_value)}\")\n",
        "    # print(f\"first_value: {first_value}\")\n",
        "\n",
        "    print(f\"first_value: {first_value}\")\n",
        "    if isinstance(first_value, list):\n",
        "      for val in first_value:\n",
        "          Eliminate_implication(val)\n",
        "    elif isinstance(first_value, dict):\n",
        "      for key, val in first_value.items():\n",
        "          Eliminate_implication(val)\n",
        "\n",
        "    if \"imply\" in my_dict:\n",
        "      my_dict['or'] = my_dict.pop('imply')\n",
        "      my_dict['or'][0] = {'not': my_dict['or'][0]}\n",
        "\n",
        "statement2 = \"not(there_exist(x)[for_all(y)[for_all(z)[imply(imply(P(y) , Q(z)) , imply(P(x) , Q(x)))]]])\"\n",
        "my_dict1 =  parse_statement(statement2)\n",
        "# my_dict = {'and': [{'imply': ['P(y)', 'Q(z)']}, {'imply': ['P(x)', 'Q(x)']}]}\n",
        "Eliminate_implication(my_dict1)\n",
        "print(my_dict1)\n"
      ],
      "metadata": {
        "colab": {
          "base_uri": "https://localhost:8080/"
        },
        "id": "Cs8X65q1-X5q",
        "outputId": "bbad7bdd-31f3-40df-b664-ae0fe2334bff"
      },
      "execution_count": null,
      "outputs": [
        {
          "output_type": "stream",
          "name": "stdout",
          "text": [
            "first_value: {'there_exist(x)': {'for_all(y)': {'for_all(z)': {'imply': [{'imply': ['P(y)', 'Q(z)']}, {'imply': ['P(x)', 'Q(x)']}]}}}}\n",
            "first_value: {'for_all(z)': {'imply': [{'imply': ['P(y)', 'Q(z)']}, {'imply': ['P(x)', 'Q(x)']}]}}\n",
            "first_value: [{'imply': ['P(y)', 'Q(z)']}, {'imply': ['P(x)', 'Q(x)']}]\n",
            "first_value: ['P(y)', 'Q(z)']\n",
            "first_value: ['P(x)', 'Q(x)']\n",
            "{'not': {'there_exist(x)': {'for_all(y)': {'for_all(z)': {'or': [{'not': {'or': [{'not': 'P(y)'}, 'Q(z)']}}, {'or': [{'not': 'P(x)'}, 'Q(x)']}]}}}}}\n"
          ]
        }
      ]
    },
    {
      "cell_type": "code",
      "source": [
        "# not (a or b) = (not a and not b)\n",
        "# not (a and b) = (not a or not b)\n",
        "# not forall() = therE not()\n",
        "# not thereE() = forall not()\n",
        "\n",
        "def Move_negation_inward(my_dict) :\n",
        "    if not isinstance(my_dict, dict) :\n",
        "          return my_dict\n",
        "\n",
        "    keys_iterator = iter(my_dict)\n",
        "    first_key = next(keys_iterator)\n",
        "    first_value = my_dict[first_key]\n",
        "\n",
        "    if first_key == \"not\":\n",
        "      if isinstance(first_value, str):\n",
        "        return\n",
        "\n",
        "      if isinstance(first_value, list):\n",
        "        for val in first_value:\n",
        "          val = {\"not\": val}\n",
        "          Move_negation_inward(val)\n",
        "        return\n",
        "\n",
        "      if isinstance(first_value, dict):\n",
        "        keys = iter(first_value)\n",
        "        key = next(keys)\n",
        "        value = first_value[key]\n",
        "\n",
        "        if key == \"and\":\n",
        "            my_dict[\"or\"] = my_dict.pop(\"not\")\n",
        "            first_value[\"not\"] = first_value.pop(key)\n",
        "\n",
        "        elif key == \"or\":\n",
        "            my_dict[\"and\"] = my_dict.pop(\"not\")\n",
        "            first_value[\"not\"] = first_value.pop(key)\n",
        "\n",
        "        elif key.startswith(\"for_all\"):\n",
        "            k = \"there_exist(\" + str(key.split(\"(\", 1)[1][:-1]) + \")\"\n",
        "            my_dict[k] = my_dict.pop(\"not\")\n",
        "            first_value[\"not\"] = first_value.pop(key)\n",
        "\n",
        "        elif key.startswith(\"there_exist\"):\n",
        "            k = \"for_all(\" + str(key.split(\"(\", 1)[1][:-1]) + \")\"\n",
        "            my_dict[k] = my_dict.pop(\"not\")\n",
        "            first_value[\"not\"] = first_value.pop(key)\n",
        "\n",
        "        Move_negation_inward(first_value)\n",
        "        return\n",
        "    else:\n",
        "      if isinstance(first_value, list):\n",
        "        for val in first_value:\n",
        "          Move_negation_inward(val)\n",
        "      elif isinstance(first_value, dict):\n",
        "        Move_negation_inward(first_value)\n",
        "\n",
        "# my_dict = {\"not\": {\"for_all(x)\": {\"there_exist(y)\": {\"not\": {\"and\": [\"A\", \"B\"]}}}}}\n",
        "my_dict = parse_statement(\"not(for_all(x)[there_exist(y)[not(and(A, B))]])\")\n",
        "my_dict = parse_statement(\"not(there_exist(x)[for_all(y)[for_all(z)[imply(imply(P(y) , Q(z)) , imply(P(x) , Q(x)))]]])\")\n",
        "print(my_dict)\n",
        "Eliminate_implication(my_dict)\n",
        "Move_negation_inward(my_dict)\n",
        "print(my_dict)\n",
        "Move_negation_inward(my_dict)\n",
        "print(my_dict)\n",
        "Move_negation_inward(my_dict)\n",
        "print(my_dict)\n",
        "Move_negation_inward(my_dict)\n",
        "print(my_dict)\n"
      ],
      "metadata": {
        "id": "t0YzTy0NQBru",
        "colab": {
          "base_uri": "https://localhost:8080/"
        },
        "outputId": "a8feb793-4a47-4cb4-a5cc-12c211fdf542"
      },
      "execution_count": null,
      "outputs": [
        {
          "output_type": "stream",
          "name": "stdout",
          "text": [
            "{'not': {'there_exist(x)': {'for_all(y)': {'for_all(z)': {'imply': [{'imply': ['P(y)', 'Q(z)']}, {'imply': ['P(x)', 'Q(x)']}]}}}}}\n",
            "first_value: {'there_exist(x)': {'for_all(y)': {'for_all(z)': {'imply': [{'imply': ['P(y)', 'Q(z)']}, {'imply': ['P(x)', 'Q(x)']}]}}}}\n",
            "first_value: {'for_all(z)': {'imply': [{'imply': ['P(y)', 'Q(z)']}, {'imply': ['P(x)', 'Q(x)']}]}}\n",
            "first_value: [{'imply': ['P(y)', 'Q(z)']}, {'imply': ['P(x)', 'Q(x)']}]\n",
            "first_value: ['P(y)', 'Q(z)']\n",
            "first_value: ['P(x)', 'Q(x)']\n",
            "{'for_all(x)': {'there_exist(y)': {'there_exist(z)': {'and': {'not': [{'and': {'not': [{'not': 'P(y)'}, 'Q(z)']}}, {'not': [{'not': 'P(x)'}, 'Q(x)']}]}}}}}\n",
            "{'for_all(x)': {'there_exist(y)': {'there_exist(z)': {'and': {'not': [{'not': {'not': [{'not': 'P(y)'}, 'Q(z)']}}, {'not': [{'not': 'P(x)'}, 'Q(x)']}]}}}}}\n",
            "{'for_all(x)': {'there_exist(y)': {'there_exist(z)': {'and': {'not': [{'not': {'not': [{'not': 'P(y)'}, 'Q(z)']}}, {'not': [{'not': 'P(x)'}, 'Q(x)']}]}}}}}\n",
            "{'for_all(x)': {'there_exist(y)': {'there_exist(z)': {'and': {'not': [{'not': {'not': [{'not': 'P(y)'}, 'Q(z)']}}, {'not': [{'not': 'P(x)'}, 'Q(x)']}]}}}}}\n"
          ]
        }
      ]
    },
    {
      "cell_type": "code",
      "source": [
        "# Test:1\n",
        "test1 = \"not(there_exist(x)[for_all(y)[for_all(z)[imply(imply(P(y) , Q(z)) , imply(P(x) , Q(x)))]]])\"\n",
        "print(test1)\n",
        "print(\"-----------------\")\n",
        "\n",
        "test_my_dict1 =  parse_statement(test1)\n",
        "print(test_my_dict1)\n",
        "print(\"-----------------\")\n",
        "\n",
        "Eliminate_implication(test_my_dict1)\n",
        "print(test_my_dict1)\n",
        "print(\"-----------------\")\n",
        "\n",
        "Move_negation_inward(test_my_dict1)\n",
        "print(test_my_dict1)\n",
        "Move_negation_inward(test_my_dict1)\n",
        "print(test_my_dict1)\n",
        "Move_negation_inward(test_my_dict1)\n",
        "print(test_my_dict1)\n",
        "Move_negation_inward(test_my_dict1)\n",
        "print(test_my_dict1)"
      ],
      "metadata": {
        "colab": {
          "base_uri": "https://localhost:8080/"
        },
        "id": "BtJNUw565xyr",
        "outputId": "943715d7-cb98-4071-ae86-0e5febcff775"
      },
      "execution_count": null,
      "outputs": [
        {
          "output_type": "stream",
          "name": "stdout",
          "text": [
            "not(there_exist(x)[for_all(y)[for_all(z)[imply(imply(P(y) , Q(z)) , imply(P(x) , Q(x)))]]])\n",
            "-----------------\n",
            "{'not': {'there_exist(x)': {'for_all(y)': {'for_all(z)': {'imply': [{'imply': ['P(y)', 'Q(z)']}, {'imply': ['P(x)', 'Q(x)']}]}}}}}\n",
            "-----------------\n",
            "first_value: {'there_exist(x)': {'for_all(y)': {'for_all(z)': {'imply': [{'imply': ['P(y)', 'Q(z)']}, {'imply': ['P(x)', 'Q(x)']}]}}}}\n",
            "first_value: {'for_all(z)': {'imply': [{'imply': ['P(y)', 'Q(z)']}, {'imply': ['P(x)', 'Q(x)']}]}}\n",
            "first_value: [{'imply': ['P(y)', 'Q(z)']}, {'imply': ['P(x)', 'Q(x)']}]\n",
            "first_value: ['P(y)', 'Q(z)']\n",
            "first_value: ['P(x)', 'Q(x)']\n",
            "{'not': {'there_exist(x)': {'for_all(y)': {'for_all(z)': {'or': [{'not': {'or': [{'not': 'P(y)'}, 'Q(z)']}}, {'or': [{'not': 'P(x)'}, 'Q(x)']}]}}}}}\n",
            "-----------------\n",
            "{'for_all(x)': {'there_exist(y)': {'there_exist(z)': {'and': {'not': [{'and': {'not': [{'not': 'P(y)'}, 'Q(z)']}}, {'not': [{'not': 'P(x)'}, 'Q(x)']}]}}}}}\n",
            "{'for_all(x)': {'there_exist(y)': {'there_exist(z)': {'and': {'not': [{'not': {'not': [{'not': 'P(y)'}, 'Q(z)']}}, {'not': [{'not': 'P(x)'}, 'Q(x)']}]}}}}}\n",
            "{'for_all(x)': {'there_exist(y)': {'there_exist(z)': {'and': {'not': [{'not': {'not': [{'not': 'P(y)'}, 'Q(z)']}}, {'not': [{'not': 'P(x)'}, 'Q(x)']}]}}}}}\n",
            "{'for_all(x)': {'there_exist(y)': {'there_exist(z)': {'and': {'not': [{'not': {'not': [{'not': 'P(y)'}, 'Q(z)']}}, {'not': [{'not': 'P(x)'}, 'Q(x)']}]}}}}}\n"
          ]
        }
      ]
    },
    {
      "cell_type": "code",
      "source": [
        "def Remove_double_not(my_dict):\n",
        "    if not isinstance(my_dict, dict):\n",
        "          return my_dict\n",
        "\n",
        "    keys_iterator = iter(my_dict)\n",
        "    first_key = next(keys_iterator)\n",
        "    first_value = my_dict[first_key]\n",
        "    for val in first_value:\n",
        "        Remove_double_not(val)\n",
        "\n",
        "\n",
        "\n"
      ],
      "metadata": {
        "id": "RgSt7Bk8DFme"
      },
      "execution_count": null,
      "outputs": []
    }
  ]
}
